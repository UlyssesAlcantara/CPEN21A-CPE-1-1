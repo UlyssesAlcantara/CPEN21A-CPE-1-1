{
  "nbformat": 4,
  "nbformat_minor": 0,
  "metadata": {
    "colab": {
      "name": "Lab1.ipynb",
      "provenance": [],
      "authorship_tag": "ABX9TyN+0ra2qfMIfMG203ppFtf5",
      "include_colab_link": true
    },
    "kernelspec": {
      "name": "python3",
      "display_name": "Python 3"
    },
    "language_info": {
      "name": "python"
    }
  },
  "cells": [
    {
      "cell_type": "markdown",
      "metadata": {
        "id": "view-in-github",
        "colab_type": "text"
      },
      "source": [
        "<a href=\"https://colab.research.google.com/github/UlyssesAlcantara/CPEN21A-CPE-1-1/blob/main/Lab1.ipynb\" target=\"_parent\"><img src=\"https://colab.research.google.com/assets/colab-badge.svg\" alt=\"Open In Colab\"/></a>"
      ]
    },
    {
      "cell_type": "markdown",
      "metadata": {
        "id": "ShWiXF1eZbi6"
      },
      "source": [
        "'Laboratory 1'\n"
      ]
    },
    {
      "cell_type": "code",
      "metadata": {
        "colab": {
          "base_uri": "https://localhost:8080/"
        },
        "id": "Tl6OwfEIZkVZ",
        "outputId": "d618e823-8de6-475e-c1d4-9bd82efdde45"
      },
      "source": [
        "a = 'Welcome to Python Programming '\n",
        "print(a)"
      ],
      "execution_count": 3,
      "outputs": [
        {
          "output_type": "stream",
          "name": "stdout",
          "text": [
            "Welcome to Python Programming \n"
          ]
        }
      ]
    },
    {
      "cell_type": "code",
      "metadata": {
        "colab": {
          "base_uri": "https://localhost:8080/"
        },
        "id": "eyA8iLZWZ9m8",
        "outputId": "6034494b-fa9a-4c82-9530-65536fe69a91"
      },
      "source": [
        "a = 'Ulysses S Alcantara'\n",
        "b = '343 Sabang Dasmarinas City of Cavite'\n",
        "c = '18 Years old'\n",
        "print(a)\n",
        "print(b)\n",
        "print(c)"
      ],
      "execution_count": 2,
      "outputs": [
        {
          "output_type": "stream",
          "name": "stdout",
          "text": [
            "Ulysses S Alcantara\n",
            "343 Sabang Dasmarinas City of Cavite\n",
            "18 Years old\n"
          ]
        }
      ]
    }
  ]
}